{
 "cells": [
  {
   "cell_type": "markdown",
   "id": "5940c8f7",
   "metadata": {},
   "source": [
    "# Dead Reckoning in Python\n",
    "\n",
    "This notebook demonstrates a basic implementation of dead reckoning in 2D using Python."
   ]
  },
  {
   "cell_type": "code",
   "execution_count": null,
   "id": "6608f7f8",
   "metadata": {},
   "outputs": [],
   "source": [
    "import numpy as np\n",
    "import matplotlib.pyplot as plt"
   ]
  },
  {
   "cell_type": "markdown",
   "id": "a8ca9ef4",
   "metadata": {},
   "source": [
    "## Set initial conditions"
   ]
  },
  {
   "cell_type": "code",
   "execution_count": null,
   "id": "0258f378",
   "metadata": {},
   "outputs": [],
   "source": [
    "x, y = 0.0, 0.0\n",
    "theta = np.deg2rad(0)  # Initial direction (facing north)\n",
    "\n",
    "dt = 1.0  # Time interval in seconds\n",
    "steps = 20  # Number of steps\n",
    "\n",
    "velocities = [1.0] * steps\n",
    "angles_deg = [0, 0, 10, 10, 0, 0, -10, -10, 0, 0, 0, 0, 5, 5, 0, 0, -5, -5, 0, 0]\n",
    "angles_rad = [np.deg2rad(a) for a in angles_deg]\n",
    "\n",
    "positions = [(x, y)]"
   ]
  },
  {
   "cell_type": "markdown",
   "id": "44e5f1c4",
   "metadata": {},
   "source": [
    "## Run Dead Reckoning simulation"
   ]
  },
  {
   "cell_type": "code",
   "execution_count": null,
   "id": "6363ff23",
   "metadata": {},
   "outputs": [],
   "source": [
    "for i in range(steps):\n",
    "    theta += angles_rad[i]\n",
    "    dx = velocities[i] * np.cos(theta) * dt\n",
    "    dy = velocities[i] * np.sin(theta) * dt\n",
    "    x += dx\n",
    "    y += dy\n",
    "    positions.append((x, y))"
   ]
  },
  {
   "cell_type": "markdown",
   "id": "6d146b79",
   "metadata": {},
   "source": [
    "## Visualize the result"
   ]
  },
  {
   "cell_type": "code",
   "execution_count": null,
   "id": "2fd53c35",
   "metadata": {},
   "outputs": [],
   "source": [
    "xs, ys = zip(*positions)\n",
    "plt.plot(xs, ys, marker='o')\n",
    "plt.title('Dead Reckoning Path')\n",
    "plt.xlabel('X position (m)')\n",
    "plt.ylabel('Y position (m)')\n",
    "plt.grid(True)\n",
    "plt.axis('equal')\n",
    "plt.show()"
   ]
  }
 ],
 "metadata": {},
 "nbformat": 4,
 "nbformat_minor": 5
}
